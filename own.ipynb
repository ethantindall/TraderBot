{
 "cells": [
  {
   "cell_type": "code",
   "execution_count": 12,
   "id": "84e480f5",
   "metadata": {},
   "outputs": [],
   "source": [
    "from uniswap import Uniswap\n",
    "from web3 import Web3\n",
    "import requests\n",
    "from datetime import datetime\n",
    "from dataclasses import dataclass, field\n",
    "from typing import Optional\n",
    "from decimal import Decimal\n",
    "import time\n",
    "import os\n",
    "from dotenv import load_dotenv\n",
    "from Trade import Trade"
   ]
  },
  {
   "cell_type": "code",
   "execution_count": 13,
   "id": "fb969786",
   "metadata": {},
   "outputs": [],
   "source": [
    "os.environ.clear()\n",
    "load_dotenv(override=True)\n",
    "\n",
    "MM_INFURA_URL = \"https://mainnet.infura.io/v3/\"\n",
    "MM_PRIVATE_KEY = \"b471f81b46bb4929a7b7e6addac2f87e\"\n",
    "MM_WALLET_ADDRESS = \"0xF15DB64d4D430e0C5a7426F1595E842934987275\"\n",
    "\n",
    "web3 = Web3(Web3.HTTPProvider(\"https://mainnet.infura.io/v3/b471f81b46bb4929a7b7e6addac2f87e\"))\n"
   ]
  },
  {
   "cell_type": "code",
   "execution_count": 14,
   "id": "998cdd30",
   "metadata": {},
   "outputs": [],
   "source": [
    "uniswap = Uniswap(\n",
    "    address = MM_WALLET_ADDRESS,\n",
    "    private_key = MM_PRIVATE_KEY,\n",
    "    provider = MM_INFURA_URL,\n",
    "    version=3,\n",
    "    web3 = web3\n",
    ")\n",
    "\n",
    "uniswap_v2 = Uniswap(\n",
    "    address = MM_WALLET_ADDRESS,\n",
    "    private_key = MM_PRIVATE_KEY,\n",
    "    provider = MM_INFURA_URL,\n",
    "    version=2,\n",
    "    web3 = web3\n",
    ")"
   ]
  },
  {
   "cell_type": "code",
   "execution_count": null,
   "id": "0a293136",
   "metadata": {},
   "outputs": [
    {
     "data": {
      "text/plain": [
       "<uniswap.uniswap.Uniswap at 0x7a3ff0c23230>"
      ]
     },
     "execution_count": 6,
     "metadata": {},
     "output_type": "execute_result"
    }
   ],
   "source": [
    "KNOWN_TOKENS = {\n",
    "    'usd': {\n",
    "        # NEED ADDRESS HERE VV\n",
    "        'address': Web3.to_checksum_address(''),\n",
    "        'decimals': 6\n",
    "    },\n",
    "    'usdc': {\n",
    "        'address': \"\",\n",
    "        'decimals': 6\n",
    "    },\n",
    "    'dai': {\n",
    "        'address': \"\",\n",
    "        'decimals': 18\n",
    "    }\n",
    "}"
   ]
  },
  {
   "cell_type": "code",
   "execution_count": 15,
   "id": "d4dfa675",
   "metadata": {},
   "outputs": [],
   "source": [
    "def get_token_info(ticker: str) -> tuple:\n",
    "    \"\"\"Fetch token address and decimals.\"\"\"\n",
    "    if ticker.lower() in KNOWN_TOKENS:\n",
    "        return KNOWN_TOKENS[ticker.lower()]\n",
    "    \n",
    "    #fallback: get from coingecko\n",
    "    try:\n",
    "        url = \"https://tokens.coingecko.com/etherum/all.json\"\n",
    "        response = requests.get(url)\n",
    "        response.raise_for_status()\n",
    "        tokens = response.json.get('tokens', [])\n",
    "\n",
    "        for token in tokens:\n",
    "            if token['symbol'].lower() == ticker.lower():\n",
    "                return Web3.to_checksum_address(token['address']), token['decimals']\n",
    "        print(f\"Token {ticker} not found in Coingecko's Ethereum token list.\")\n",
    "    \n",
    "    except Exception as e:\n",
    "        print(f\"Error fetching token info from Coingecko: {e}\")\n",
    "\n",
    "    return None"
   ]
  },
  {
   "cell_type": "code",
   "execution_count": null,
   "id": "2a48db86",
   "metadata": {},
   "outputs": [],
   "source": []
  }
 ],
 "metadata": {
  "kernelspec": {
   "display_name": "testenv",
   "language": "python",
   "name": "python3"
  },
  "language_info": {
   "codemirror_mode": {
    "name": "ipython",
    "version": 3
   },
   "file_extension": ".py",
   "mimetype": "text/x-python",
   "name": "python",
   "nbconvert_exporter": "python",
   "pygments_lexer": "ipython3",
   "version": "3.13.5"
  }
 },
 "nbformat": 4,
 "nbformat_minor": 5
}
